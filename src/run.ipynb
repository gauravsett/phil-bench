{
 "cells": [
  {
   "cell_type": "code",
   "execution_count": null,
   "metadata": {},
   "outputs": [],
   "source": [
    "from data import load_survey\n",
    "\n",
    "questions, options, responses = load_survey()"
   ]
  },
  {
   "cell_type": "code",
   "execution_count": null,
   "metadata": {},
   "outputs": [],
   "source": [
    "from data import load_correlations\n",
    "\n",
    "question_pairs, option_pairs, response_tables = load_correlations()"
   ]
  },
  {
   "cell_type": "code",
   "execution_count": null,
   "metadata": {},
   "outputs": [
    {
     "data": {
      "text/html": [
       "<div>\n",
       "<style scoped>\n",
       "    .dataframe tbody tr th:only-of-type {\n",
       "        vertical-align: middle;\n",
       "    }\n",
       "\n",
       "    .dataframe tbody tr th {\n",
       "        vertical-align: top;\n",
       "    }\n",
       "\n",
       "    .dataframe thead th {\n",
       "        text-align: right;\n",
       "    }\n",
       "</style>\n",
       "<table border=\"1\" class=\"dataframe\">\n",
       "  <thead>\n",
       "    <tr style=\"text-align: right;\">\n",
       "      <th></th>\n",
       "      <th>id</th>\n",
       "    </tr>\n",
       "  </thead>\n",
       "  <tbody>\n",
       "    <tr>\n",
       "      <th>0</th>\n",
       "      <td>b206c824d3a5adc396c40508e36692db66c2f4c0</td>\n",
       "    </tr>\n",
       "    <tr>\n",
       "      <th>1</th>\n",
       "      <td>36d3a036cb8ea3b8520909ca083e785c710725d8</td>\n",
       "    </tr>\n",
       "    <tr>\n",
       "      <th>2</th>\n",
       "      <td>1bb5098945768be2debae1549305d0564c23879f</td>\n",
       "    </tr>\n",
       "    <tr>\n",
       "      <th>3</th>\n",
       "      <td>1e2c2d7c92ceba09939e53f1db8f3eba0ddaebdb</td>\n",
       "    </tr>\n",
       "    <tr>\n",
       "      <th>4</th>\n",
       "      <td>2a1e2230ae32b9ad91e6cf66c1f437b9236817b5</td>\n",
       "    </tr>\n",
       "    <tr>\n",
       "      <th>...</th>\n",
       "      <td>...</td>\n",
       "    </tr>\n",
       "    <tr>\n",
       "      <th>430237</th>\n",
       "      <td>dd4e525afd450dad714188751fbf214ae2a14942</td>\n",
       "    </tr>\n",
       "    <tr>\n",
       "      <th>430238</th>\n",
       "      <td>bc5e3a98ab711f4ce0871ba8cae51a705b5d55b2</td>\n",
       "    </tr>\n",
       "    <tr>\n",
       "      <th>430239</th>\n",
       "      <td>d3f27e6b02879ad978fbdd0b2265eec1231856f6</td>\n",
       "    </tr>\n",
       "    <tr>\n",
       "      <th>430240</th>\n",
       "      <td>c4a608382748aa2b4949ed8cc06c6bb614b6fcc4</td>\n",
       "    </tr>\n",
       "    <tr>\n",
       "      <th>430241</th>\n",
       "      <td>7ddff674789b4d32ca01ed71365ea0991fe43c0c</td>\n",
       "    </tr>\n",
       "  </tbody>\n",
       "</table>\n",
       "<p>430242 rows × 1 columns</p>\n",
       "</div>"
      ],
      "text/plain": [
       "                                              id\n",
       "0       b206c824d3a5adc396c40508e36692db66c2f4c0\n",
       "1       36d3a036cb8ea3b8520909ca083e785c710725d8\n",
       "2       1bb5098945768be2debae1549305d0564c23879f\n",
       "3       1e2c2d7c92ceba09939e53f1db8f3eba0ddaebdb\n",
       "4       2a1e2230ae32b9ad91e6cf66c1f437b9236817b5\n",
       "...                                          ...\n",
       "430237  dd4e525afd450dad714188751fbf214ae2a14942\n",
       "430238  bc5e3a98ab711f4ce0871ba8cae51a705b5d55b2\n",
       "430239  d3f27e6b02879ad978fbdd0b2265eec1231856f6\n",
       "430240  c4a608382748aa2b4949ed8cc06c6bb614b6fcc4\n",
       "430241  7ddff674789b4d32ca01ed71365ea0991fe43c0c\n",
       "\n",
       "[430242 rows x 1 columns]"
      ]
     },
     "execution_count": 5,
     "metadata": {},
     "output_type": "execute_result"
    }
   ],
   "source": [
    "from data import fetch_paper_ids\n",
    "\n",
    "ids = fetch_paper_ids(questions, load=\"../data/semantic_scholar_ids.feather\")\n",
    "ids"
   ]
  },
  {
   "cell_type": "code",
   "execution_count": 7,
   "metadata": {},
   "outputs": [
    {
     "name": "stderr",
     "output_type": "stream",
     "text": [
      "  0%|          | 0/860 [05:51<?, ?it/s]\n"
     ]
    },
    {
     "ename": "KeyboardInterrupt",
     "evalue": "",
     "output_type": "error",
     "traceback": [
      "\u001b[0;31m---------------------------------------------------------------------------\u001b[0m",
      "\u001b[0;31mKeyboardInterrupt\u001b[0m                         Traceback (most recent call last)",
      "Cell \u001b[0;32mIn[7], line 3\u001b[0m\n\u001b[1;32m      1\u001b[0m \u001b[39mfrom\u001b[39;00m \u001b[39mdata\u001b[39;00m \u001b[39mimport\u001b[39;00m fetch_abstracts\n\u001b[0;32m----> 3\u001b[0m data \u001b[39m=\u001b[39m fetch_abstracts(ids)\u001b[39m#, save=\"../data/semantic_scholar_papers.feather\")\u001b[39;00m\n\u001b[1;32m      4\u001b[0m data\n",
      "File \u001b[0;32m~/Documents/GitHub/phil-bench/src/data.py:132\u001b[0m, in \u001b[0;36mfetch_abstracts\u001b[0;34m(ids, load, save)\u001b[0m\n\u001b[1;32m    130\u001b[0m r \u001b[39m=\u001b[39m requests\u001b[39m.\u001b[39mpost(url, params\u001b[39m=\u001b[39mparams, headers\u001b[39m=\u001b[39mheaders, json\u001b[39m=\u001b[39mjsn)\u001b[39m.\u001b[39mjson()\n\u001b[1;32m    131\u001b[0m \u001b[39mfor\u001b[39;00m paper \u001b[39min\u001b[39;00m r:\n\u001b[0;32m--> 132\u001b[0m     \u001b[39mif\u001b[39;00m paper \u001b[39mand\u001b[39;00m \u001b[39m\"\u001b[39m\u001b[39mabstract\u001b[39m\u001b[39m\"\u001b[39m \u001b[39min\u001b[39;00m paper \u001b[39mand\u001b[39;00m paper[\u001b[39m\"\u001b[39m\u001b[39mabstract\u001b[39m\u001b[39m\"\u001b[39m]:\n\u001b[1;32m    133\u001b[0m         author_ids \u001b[39m=\u001b[39m [x[\u001b[39m\"\u001b[39m\u001b[39mauthorId\u001b[39m\u001b[39m\"\u001b[39m] \u001b[39mfor\u001b[39;00m x \u001b[39min\u001b[39;00m paper[\u001b[39m\"\u001b[39m\u001b[39mauthors\u001b[39m\u001b[39m\"\u001b[39m] \u001b[39mif\u001b[39;00m \u001b[39m\"\u001b[39m\u001b[39mauthorId\u001b[39m\u001b[39m\"\u001b[39m \u001b[39min\u001b[39;00m x]\n\u001b[1;32m    134\u001b[0m         paper[\u001b[39m\"\u001b[39m\u001b[39mauthors\u001b[39m\u001b[39m\"\u001b[39m] \u001b[39m=\u001b[39m author_ids\n",
      "File \u001b[0;32m~/Documents/GitHub/phil-bench/src/data.py:132\u001b[0m, in \u001b[0;36mfetch_abstracts\u001b[0;34m(ids, load, save)\u001b[0m\n\u001b[1;32m    130\u001b[0m r \u001b[39m=\u001b[39m requests\u001b[39m.\u001b[39mpost(url, params\u001b[39m=\u001b[39mparams, headers\u001b[39m=\u001b[39mheaders, json\u001b[39m=\u001b[39mjsn)\u001b[39m.\u001b[39mjson()\n\u001b[1;32m    131\u001b[0m \u001b[39mfor\u001b[39;00m paper \u001b[39min\u001b[39;00m r:\n\u001b[0;32m--> 132\u001b[0m     \u001b[39mif\u001b[39;00m paper \u001b[39mand\u001b[39;00m \u001b[39m\"\u001b[39m\u001b[39mabstract\u001b[39m\u001b[39m\"\u001b[39m \u001b[39min\u001b[39;00m paper \u001b[39mand\u001b[39;00m paper[\u001b[39m\"\u001b[39m\u001b[39mabstract\u001b[39m\u001b[39m\"\u001b[39m]:\n\u001b[1;32m    133\u001b[0m         author_ids \u001b[39m=\u001b[39m [x[\u001b[39m\"\u001b[39m\u001b[39mauthorId\u001b[39m\u001b[39m\"\u001b[39m] \u001b[39mfor\u001b[39;00m x \u001b[39min\u001b[39;00m paper[\u001b[39m\"\u001b[39m\u001b[39mauthors\u001b[39m\u001b[39m\"\u001b[39m] \u001b[39mif\u001b[39;00m \u001b[39m\"\u001b[39m\u001b[39mauthorId\u001b[39m\u001b[39m\"\u001b[39m \u001b[39min\u001b[39;00m x]\n\u001b[1;32m    134\u001b[0m         paper[\u001b[39m\"\u001b[39m\u001b[39mauthors\u001b[39m\u001b[39m\"\u001b[39m] \u001b[39m=\u001b[39m author_ids\n",
      "File \u001b[0;32m_pydevd_bundle/pydevd_cython.pyx:1457\u001b[0m, in \u001b[0;36m_pydevd_bundle.pydevd_cython.SafeCallWrapper.__call__\u001b[0;34m()\u001b[0m\n",
      "File \u001b[0;32m_pydevd_bundle/pydevd_cython.pyx:701\u001b[0m, in \u001b[0;36m_pydevd_bundle.pydevd_cython.PyDBFrame.trace_dispatch\u001b[0;34m()\u001b[0m\n",
      "File \u001b[0;32m_pydevd_bundle/pydevd_cython.pyx:1152\u001b[0m, in \u001b[0;36m_pydevd_bundle.pydevd_cython.PyDBFrame.trace_dispatch\u001b[0;34m()\u001b[0m\n",
      "File \u001b[0;32m_pydevd_bundle/pydevd_cython.pyx:1135\u001b[0m, in \u001b[0;36m_pydevd_bundle.pydevd_cython.PyDBFrame.trace_dispatch\u001b[0;34m()\u001b[0m\n",
      "File \u001b[0;32m_pydevd_bundle/pydevd_cython.pyx:312\u001b[0m, in \u001b[0;36m_pydevd_bundle.pydevd_cython.PyDBFrame.do_wait_suspend\u001b[0;34m()\u001b[0m\n",
      "File \u001b[0;32m~/Documents/GitHub/phil-bench/env/lib/python3.10/site-packages/debugpy/_vendored/pydevd/pydevd.py:2070\u001b[0m, in \u001b[0;36mPyDB.do_wait_suspend\u001b[0;34m(self, thread, frame, event, arg, exception_type)\u001b[0m\n\u001b[1;32m   2067\u001b[0m             from_this_thread\u001b[39m.\u001b[39mappend(frame_custom_thread_id)\n\u001b[1;32m   2069\u001b[0m     \u001b[39mwith\u001b[39;00m \u001b[39mself\u001b[39m\u001b[39m.\u001b[39m_threads_suspended_single_notification\u001b[39m.\u001b[39mnotify_thread_suspended(thread_id, thread, stop_reason):\n\u001b[0;32m-> 2070\u001b[0m         keep_suspended \u001b[39m=\u001b[39m \u001b[39mself\u001b[39;49m\u001b[39m.\u001b[39;49m_do_wait_suspend(thread, frame, event, arg, suspend_type, from_this_thread, frames_tracker)\n\u001b[1;32m   2072\u001b[0m frames_list \u001b[39m=\u001b[39m \u001b[39mNone\u001b[39;00m\n\u001b[1;32m   2074\u001b[0m \u001b[39mif\u001b[39;00m keep_suspended:\n\u001b[1;32m   2075\u001b[0m     \u001b[39m# This means that we should pause again after a set next statement.\u001b[39;00m\n",
      "File \u001b[0;32m~/Documents/GitHub/phil-bench/env/lib/python3.10/site-packages/debugpy/_vendored/pydevd/pydevd.py:2106\u001b[0m, in \u001b[0;36mPyDB._do_wait_suspend\u001b[0;34m(self, thread, frame, event, arg, suspend_type, from_this_thread, frames_tracker)\u001b[0m\n\u001b[1;32m   2103\u001b[0m         \u001b[39mself\u001b[39m\u001b[39m.\u001b[39m_call_input_hook()\n\u001b[1;32m   2105\u001b[0m     \u001b[39mself\u001b[39m\u001b[39m.\u001b[39mprocess_internal_commands()\n\u001b[0;32m-> 2106\u001b[0m     time\u001b[39m.\u001b[39;49msleep(\u001b[39m0.01\u001b[39;49m)\n\u001b[1;32m   2108\u001b[0m \u001b[39mself\u001b[39m\u001b[39m.\u001b[39mcancel_async_evaluation(get_current_thread_id(thread), \u001b[39mstr\u001b[39m(\u001b[39mid\u001b[39m(frame)))\n\u001b[1;32m   2110\u001b[0m \u001b[39m# process any stepping instructions\u001b[39;00m\n",
      "\u001b[0;31mKeyboardInterrupt\u001b[0m: "
     ]
    }
   ],
   "source": [
    "from data import fetch_abstracts\n",
    "\n",
    "data = fetch_abstracts(ids)#, save=\"../data/semantic_scholar_papers.feather\")\n",
    "data"
   ]
  },
  {
   "cell_type": "code",
   "execution_count": 5,
   "metadata": {},
   "outputs": [],
   "source": [
    "from models.openai_base import openai_davinci_base"
   ]
  },
  {
   "cell_type": "code",
   "execution_count": 6,
   "metadata": {},
   "outputs": [
    {
     "ename": "TypeError",
     "evalue": "can't multiply sequence by non-int of type 'list'",
     "output_type": "error",
     "traceback": [
      "\u001b[0;31m---------------------------------------------------------------------------\u001b[0m",
      "\u001b[0;31mTypeError\u001b[0m                                 Traceback (most recent call last)",
      "File \u001b[0;32m~/Documents/GitHub/phil-bench/src/models/openai_base.py:48\u001b[0m, in \u001b[0;36mOpenAIModel.respond\u001b[0;34m(self, question, options)\u001b[0m\n\u001b[1;32m     47\u001b[0m \u001b[39mtry\u001b[39;00m:\n\u001b[0;32m---> 48\u001b[0m     response \u001b[39m=\u001b[39m [\u001b[39m1\u001b[39m \u001b[39mif\u001b[39;00m i \u001b[39m==\u001b[39m answer \u001b[39melse\u001b[39;00m \u001b[39m0\u001b[39m \u001b[39mfor\u001b[39;00m i \u001b[39min\u001b[39;00m \u001b[39mrange\u001b[39;49m(options)]\n\u001b[1;32m     49\u001b[0m \u001b[39mexcept\u001b[39;00m \u001b[39mTypeError\u001b[39;00m:\n",
      "\u001b[0;31mTypeError\u001b[0m: 'list' object cannot be interpreted as an integer",
      "\nDuring handling of the above exception, another exception occurred:\n",
      "\u001b[0;31mTypeError\u001b[0m                                 Traceback (most recent call last)",
      "Cell \u001b[0;32mIn[6], line 3\u001b[0m\n\u001b[1;32m      1\u001b[0m \u001b[39mfrom\u001b[39;00m \u001b[39mresults\u001b[39;00m \u001b[39mimport\u001b[39;00m measure_all\n\u001b[0;32m----> 3\u001b[0m measure_all(openai_davinci_base, questions, options, responses, question_pairs, option_pairs, response_tables)\n",
      "File \u001b[0;32m~/Documents/GitHub/phil-bench/src/results.py:43\u001b[0m, in \u001b[0;36mmeasure_all\u001b[0;34m(model, questions, options, philosopher_responses, question_pairs, option_pairs, response_tables)\u001b[0m\n\u001b[1;32m     42\u001b[0m \u001b[39mdef\u001b[39;00m \u001b[39mmeasure_all\u001b[39m(model, questions, options, philosopher_responses, question_pairs, option_pairs, response_tables):\n\u001b[0;32m---> 43\u001b[0m     model_responses \u001b[39m=\u001b[39m survey_responses(model, questions, options)\n\u001b[1;32m     44\u001b[0m     accuracy \u001b[39m=\u001b[39m measure_accuracy(model_responses, philosopher_responses)\n\u001b[1;32m     45\u001b[0m     divergences, distances \u001b[39m=\u001b[39m measure_difference(model_responses, philosopher_responses)\n",
      "File \u001b[0;32m~/Documents/GitHub/phil-bench/src/results.py:5\u001b[0m, in \u001b[0;36msurvey_responses\u001b[0;34m(model, questions, options)\u001b[0m\n\u001b[1;32m      4\u001b[0m \u001b[39mdef\u001b[39;00m \u001b[39msurvey_responses\u001b[39m(model, questions, options):\n\u001b[0;32m----> 5\u001b[0m     responses \u001b[39m=\u001b[39m [model\u001b[39m.\u001b[39mrespond(question, option) \u001b[39mfor\u001b[39;00m question, option \u001b[39min\u001b[39;00m \u001b[39mzip\u001b[39m(questions, options)]\n\u001b[1;32m      6\u001b[0m     \u001b[39mreturn\u001b[39;00m responses\n",
      "File \u001b[0;32m~/Documents/GitHub/phil-bench/src/results.py:5\u001b[0m, in \u001b[0;36m<listcomp>\u001b[0;34m(.0)\u001b[0m\n\u001b[1;32m      4\u001b[0m \u001b[39mdef\u001b[39;00m \u001b[39msurvey_responses\u001b[39m(model, questions, options):\n\u001b[0;32m----> 5\u001b[0m     responses \u001b[39m=\u001b[39m [model\u001b[39m.\u001b[39;49mrespond(question, option) \u001b[39mfor\u001b[39;00m question, option \u001b[39min\u001b[39;00m \u001b[39mzip\u001b[39m(questions, options)]\n\u001b[1;32m      6\u001b[0m     \u001b[39mreturn\u001b[39;00m responses\n",
      "File \u001b[0;32m~/Documents/GitHub/phil-bench/src/models/openai_base.py:50\u001b[0m, in \u001b[0;36mOpenAIModel.respond\u001b[0;34m(self, question, options)\u001b[0m\n\u001b[1;32m     48\u001b[0m     response \u001b[39m=\u001b[39m [\u001b[39m1\u001b[39m \u001b[39mif\u001b[39;00m i \u001b[39m==\u001b[39m answer \u001b[39melse\u001b[39;00m \u001b[39m0\u001b[39m \u001b[39mfor\u001b[39;00m i \u001b[39min\u001b[39;00m \u001b[39mrange\u001b[39m(options)]\n\u001b[1;32m     49\u001b[0m \u001b[39mexcept\u001b[39;00m \u001b[39mTypeError\u001b[39;00m:\n\u001b[0;32m---> 50\u001b[0m     response \u001b[39m=\u001b[39m [\u001b[39m0\u001b[39;49m] \u001b[39m*\u001b[39;49m options\n\u001b[1;32m     51\u001b[0m \u001b[39mreturn\u001b[39;00m response\n",
      "\u001b[0;31mTypeError\u001b[0m: can't multiply sequence by non-int of type 'list'"
     ]
    }
   ],
   "source": [
    "from results import measure_all\n",
    "\n",
    "measure_all(openai_davinci_base, questions, options, responses, question_pairs, option_pairs, response_tables)"
   ]
  },
  {
   "cell_type": "code",
   "execution_count": null,
   "metadata": {},
   "outputs": [],
   "source": []
  }
 ],
 "metadata": {
  "kernelspec": {
   "display_name": "base",
   "language": "python",
   "name": "python3"
  },
  "language_info": {
   "codemirror_mode": {
    "name": "ipython",
    "version": 3
   },
   "file_extension": ".py",
   "mimetype": "text/x-python",
   "name": "python",
   "nbconvert_exporter": "python",
   "pygments_lexer": "ipython3",
   "version": "3.10.11"
  },
  "orig_nbformat": 4
 },
 "nbformat": 4,
 "nbformat_minor": 2
}
